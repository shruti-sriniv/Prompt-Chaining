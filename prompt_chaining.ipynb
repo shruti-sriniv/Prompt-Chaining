{
  "nbformat": 4,
  "nbformat_minor": 0,
  "metadata": {
    "colab": {
      "provenance": [],
      "authorship_tag": "ABX9TyNl53R+PFYwSimyQBpOZ2M6",
      "include_colab_link": true
    },
    "kernelspec": {
      "name": "python3",
      "display_name": "Python 3"
    },
    "language_info": {
      "name": "python"
    }
  },
  "cells": [
    {
      "cell_type": "markdown",
      "metadata": {
        "id": "view-in-github",
        "colab_type": "text"
      },
      "source": [
        "<a href=\"https://colab.research.google.com/github/shruti-sriniv/Prompt-Chaining/blob/main/prompt_chaining.ipynb\" target=\"_parent\"><img src=\"https://colab.research.google.com/assets/colab-badge.svg\" alt=\"Open In Colab\"/></a>"
      ]
    },
    {
      "cell_type": "markdown",
      "source": [
        "Setup"
      ],
      "metadata": {
        "id": "FknA8j2plxsC"
      }
    },
    {
      "cell_type": "code",
      "source": [
        "!pip -q install --upgrade openai google-generativeai"
      ],
      "metadata": {
        "colab": {
          "base_uri": "https://localhost:8080/"
        },
        "id": "j-DoiDgLlwZE",
        "outputId": "e4ced056-96ab-451d-ea04-1d76b1f7c0a8"
      },
      "execution_count": 1,
      "outputs": [
        {
          "output_type": "stream",
          "name": "stdout",
          "text": [
            "\u001b[?25l   \u001b[90m━━━━━━━━━━━━━━━━━━━━━━━━━━━━━━━━━━━━━━━━\u001b[0m \u001b[32m0.0/948.6 kB\u001b[0m \u001b[31m?\u001b[0m eta \u001b[36m-:--:--\u001b[0m\r\u001b[2K   \u001b[91m━━━━━━━━━━━━━━━━━━━\u001b[0m\u001b[90m╺\u001b[0m\u001b[90m━━━━━━━━━━━━━━━━━━━━\u001b[0m \u001b[32m460.8/948.6 kB\u001b[0m \u001b[31m13.6 MB/s\u001b[0m eta \u001b[36m0:00:01\u001b[0m\r\u001b[2K   \u001b[90m━━━━━━━━━━━━━━━━━━━━━━━━━━━━━━━━━━━━━━━━\u001b[0m \u001b[32m948.6/948.6 kB\u001b[0m \u001b[31m15.0 MB/s\u001b[0m eta \u001b[36m0:00:00\u001b[0m\n",
            "\u001b[?25h"
          ]
        }
      ]
    },
    {
      "cell_type": "code",
      "source": [
        "from google.colab import userdata"
      ],
      "metadata": {
        "id": "_VySRvTVmMN6"
      },
      "execution_count": 10,
      "outputs": []
    },
    {
      "cell_type": "code",
      "source": [
        "import os\n",
        "from typing import Optional, Dict\n",
        "\n",
        "GEMINI_API_KEY = userdata.get('GOOGLE_API_KEY')\n",
        "\n",
        "print(\"Gemini key set? \", bool(GEMINI_API_KEY))"
      ],
      "metadata": {
        "colab": {
          "base_uri": "https://localhost:8080/"
        },
        "id": "8s4DQZ8ul4kH",
        "outputId": "5702c8de-9f41-4971-eb25-cd49eb6fe59b"
      },
      "execution_count": 15,
      "outputs": [
        {
          "output_type": "stream",
          "name": "stdout",
          "text": [
            "Gemini key set?  True\n"
          ]
        }
      ]
    },
    {
      "cell_type": "markdown",
      "source": [
        "Creating a function to call the Model and provide a response"
      ],
      "metadata": {
        "id": "QRwb_QC3uIn3"
      }
    },
    {
      "cell_type": "code",
      "source": [
        "from dataclasses import dataclass\n",
        "from typing import Optional, Dict\n",
        "import os\n",
        "\n",
        "@dataclass\n",
        "class ModelProvider:\n",
        "    name: str\n",
        "    model: str\n",
        "\n",
        "# Choose your default model here:\n",
        "DEFAULT =  ModelProvider(\"gemini\", \"gemini-1.5-flash\")\n",
        "\n",
        "def call_model(prompt: str, provider: Optional[ModelProvider] = None, extra: Optional[Dict]=None) -> str:\n",
        "    provider = provider or DEFAULT\n",
        "    extra = extra or {}\n",
        "\n",
        "    if provider.name.lower() == \"gemini\":\n",
        "        if not GEMINI_API_KEY:\n",
        "            raise RuntimeError(\"Set GEMINI_API_KEY in your environment (.env or Colab secret).\")\n",
        "        try:\n",
        "            import google.generativeai as genai\n",
        "        except Exception as e:\n",
        "            raise RuntimeError(\"Install Gemini client: `pip install google-generativeai`\") from e\n",
        "\n",
        "        genai.configure(api_key=GEMINI_API_KEY)\n",
        "        model = genai.GenerativeModel(provider.model)\n",
        "        resp = model.generate_content(prompt)\n",
        "        return resp.text\n",
        "\n",
        "    else:\n",
        "        raise ValueError(f\"Unknown provider: {provider.name}\")\n",
        ""
      ],
      "metadata": {
        "id": "hNAtsL94l3zC"
      },
      "execution_count": 38,
      "outputs": []
    },
    {
      "cell_type": "markdown",
      "source": [
        "Providing Input"
      ],
      "metadata": {
        "id": "eCxsroLEts8S"
      }
    },
    {
      "cell_type": "code",
      "source": [
        "article = \"\"\"Researchers at Karolinska Institutet have developed nanorobots that kill cancer cells in mice. The robot’s weapon is hidden in a nanostructure and is exposed only in the tumour microenvironment, sparing healthy cells. The study is published in the journal Nature Nanotechnology. The research group at Karolinska Institutet has previously developed structures that can organise so-called death receptors on the surface of cells, leading to cell death. The structures exhibit six peptides (amino acid chains) assembled in a hexagonal pattern.\n",
        "“This hexagonal nanopattern of peptides becomes a lethal weapon,” explains Professor Björn Högberg at the Department of Medical Biochemistry and Biophysics, Karolinska Institutet, who led the study. “If you were to administer it as a drug, it would indiscriminately start killing cells in the body, which would not be good. To get around this problem, we have hidden the weapon inside a nanostructure built from DNA.”\n",
        "Created a ‘kill switch’\n",
        "The art of building nanoscale structures using DNA as a building material is called DNA origami and is something Björn Högberg’s research team has been working on for many years. Now they have used the technique to create a ‘kill switch’ that is activated under the right conditions.\n",
        "\n",
        "“We have managed to hide the weapon in such a way that it can only be exposed in the environment found in and around a solid tumour,” he says. “This means that we have created a type of nanorobot that can specifically target and kill cancer cells.”\n",
        "\n",
        "The key is the low pH, or acidic microenvironment that usually surrounds cancer cells, which activates the nanorobot’s weapon. In cell analyses in test tubes, the researchers were able to show that the peptide weapon is hidden inside the nanostructure at a normal pH of 7.4, but that it has a drastic cell-killing effect when the pH drops to 6.5.\n",
        "\n",
        "Reduced tumour growth\n",
        "They then tested injecting the nanorobot into mice with breast cancer tumours. This resulted in a 70 per cent reduction in tumour growth compared to mice given an inactive version of the nanorobot.\n",
        "\n",
        "“We now need to investigate whether this works in more advanced cancer models that more closely resemble the real human disease,” says the study's first author Yang Wang, a researcher at the Department of Medical Biochemistry and Biophysics, Karolinska Institutet. “We also need to find out what side effects the method has before it can be tested on humans.”\n",
        "\n",
        "The researchers also plan to investigate whether it is possible to make the nanorobot more targeted by placing proteins or peptides on its surface that specifically bind to certain types of cancer.\n",
        "\n",
        "The research was funded by the Knut and Alice Wallenberg Foundation, the European Research Council (ERC), the Swedish Research Council and the Academy of Finland. The invention will be patented\"\"\"\n",
        "\n",
        "print(article)"
      ],
      "metadata": {
        "colab": {
          "base_uri": "https://localhost:8080/"
        },
        "id": "Nh_xmowbxkaJ",
        "outputId": "f39485f0-355d-4c81-d18d-1a8c23567e05"
      },
      "execution_count": 39,
      "outputs": [
        {
          "output_type": "stream",
          "name": "stdout",
          "text": [
            "Researchers at Karolinska Institutet have developed nanorobots that kill cancer cells in mice. The robot’s weapon is hidden in a nanostructure and is exposed only in the tumour microenvironment, sparing healthy cells. The study is published in the journal Nature Nanotechnology. The research group at Karolinska Institutet has previously developed structures that can organise so-called death receptors on the surface of cells, leading to cell death. The structures exhibit six peptides (amino acid chains) assembled in a hexagonal pattern.\n",
            "“This hexagonal nanopattern of peptides becomes a lethal weapon,” explains Professor Björn Högberg at the Department of Medical Biochemistry and Biophysics, Karolinska Institutet, who led the study. “If you were to administer it as a drug, it would indiscriminately start killing cells in the body, which would not be good. To get around this problem, we have hidden the weapon inside a nanostructure built from DNA.”\n",
            "Created a ‘kill switch’\n",
            "The art of building nanoscale structures using DNA as a building material is called DNA origami and is something Björn Högberg’s research team has been working on for many years. Now they have used the technique to create a ‘kill switch’ that is activated under the right conditions.\n",
            "\n",
            "“We have managed to hide the weapon in such a way that it can only be exposed in the environment found in and around a solid tumour,” he says. “This means that we have created a type of nanorobot that can specifically target and kill cancer cells.”\n",
            "\n",
            "The key is the low pH, or acidic microenvironment that usually surrounds cancer cells, which activates the nanorobot’s weapon. In cell analyses in test tubes, the researchers were able to show that the peptide weapon is hidden inside the nanostructure at a normal pH of 7.4, but that it has a drastic cell-killing effect when the pH drops to 6.5.\n",
            "\n",
            "Reduced tumour growth\n",
            "They then tested injecting the nanorobot into mice with breast cancer tumours. This resulted in a 70 per cent reduction in tumour growth compared to mice given an inactive version of the nanorobot.\n",
            "\n",
            "“We now need to investigate whether this works in more advanced cancer models that more closely resemble the real human disease,” says the study's first author Yang Wang, a researcher at the Department of Medical Biochemistry and Biophysics, Karolinska Institutet. “We also need to find out what side effects the method has before it can be tested on humans.”\n",
            "\n",
            "The researchers also plan to investigate whether it is possible to make the nanorobot more targeted by placing proteins or peptides on its surface that specifically bind to certain types of cancer.\n",
            "\n",
            "The research was funded by the Knut and Alice Wallenberg Foundation, the European Research Council (ERC), the Swedish Research Council and the Academy of Finland. The invention will be patented\n"
          ]
        }
      ]
    },
    {
      "cell_type": "code",
      "source": [
        "# Let us start by creating a summary of some data\n",
        "\n",
        "summary_prompt = f\"\"\"You are a concise summarizer. Summarize the following article in 5-10 bullet points\n",
        "\n",
        "ARTCLE: {article}\n",
        "\"\"\"\n",
        "\n",
        "summary = call_model(summary_prompt)\n",
        "print(\"Summary:\\n\", summary)"
      ],
      "metadata": {
        "colab": {
          "base_uri": "https://localhost:8080/",
          "height": 225
        },
        "id": "J6NAIVtPtmZC",
        "outputId": "d63bf9b4-03ff-4d73-9ef1-8f1c988f8532"
      },
      "execution_count": 40,
      "outputs": [
        {
          "output_type": "stream",
          "name": "stdout",
          "text": [
            "Summary:\n",
            " * Researchers at Karolinska Institutet created DNA origami nanorobots that target and kill cancer cells.\n",
            "* The nanorobots contain a \"kill switch\" – peptides that induce cell death.\n",
            "* The peptides are inactive at normal pH (7.4) but activated in the acidic environment (pH 6.5) of tumors.\n",
            "* In mice with breast cancer, the nanorobots reduced tumor growth by 70%.\n",
            "* The nanorobots' targeting mechanism relies on the acidic tumor microenvironment.\n",
            "*  Further research will focus on testing in more advanced cancer models and assessing side effects.\n",
            "*  Future development includes enhancing targeting specificity by adding surface proteins/peptides.\n",
            "* The research was funded by several organizations and the invention will be patented.\n",
            "* The study is published in Nature Nanotechnology.\n",
            "\n",
            "\n"
          ]
        }
      ]
    },
    {
      "cell_type": "code",
      "source": [],
      "metadata": {
        "id": "l8x2QevQtoJQ"
      },
      "execution_count": null,
      "outputs": []
    }
  ]
}