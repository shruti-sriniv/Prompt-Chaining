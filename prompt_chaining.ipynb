{
  "nbformat": 4,
  "nbformat_minor": 0,
  "metadata": {
    "colab": {
      "provenance": [],
      "authorship_tag": "ABX9TyNfo7fYnlB5ehDxPrxbLOpX",
      "include_colab_link": true
    },
    "kernelspec": {
      "name": "python3",
      "display_name": "Python 3"
    },
    "language_info": {
      "name": "python"
    }
  },
  "cells": [
    {
      "cell_type": "markdown",
      "metadata": {
        "id": "view-in-github",
        "colab_type": "text"
      },
      "source": [
        "<a href=\"https://colab.research.google.com/github/shruti-sriniv/Prompt-Chaining/blob/main/prompt_chaining.ipynb\" target=\"_parent\"><img src=\"https://colab.research.google.com/assets/colab-badge.svg\" alt=\"Open In Colab\"/></a>"
      ]
    },
    {
      "cell_type": "markdown",
      "source": [
        "Setup"
      ],
      "metadata": {
        "id": "FknA8j2plxsC"
      }
    },
    {
      "cell_type": "code",
      "source": [
        "!pip -q install --upgrade openai google-generativeai"
      ],
      "metadata": {
        "colab": {
          "base_uri": "https://localhost:8080/"
        },
        "id": "j-DoiDgLlwZE",
        "outputId": "e4ced056-96ab-451d-ea04-1d76b1f7c0a8"
      },
      "execution_count": 1,
      "outputs": [
        {
          "output_type": "stream",
          "name": "stdout",
          "text": [
            "\u001b[?25l   \u001b[90m━━━━━━━━━━━━━━━━━━━━━━━━━━━━━━━━━━━━━━━━\u001b[0m \u001b[32m0.0/948.6 kB\u001b[0m \u001b[31m?\u001b[0m eta \u001b[36m-:--:--\u001b[0m\r\u001b[2K   \u001b[91m━━━━━━━━━━━━━━━━━━━\u001b[0m\u001b[90m╺\u001b[0m\u001b[90m━━━━━━━━━━━━━━━━━━━━\u001b[0m \u001b[32m460.8/948.6 kB\u001b[0m \u001b[31m13.6 MB/s\u001b[0m eta \u001b[36m0:00:01\u001b[0m\r\u001b[2K   \u001b[90m━━━━━━━━━━━━━━━━━━━━━━━━━━━━━━━━━━━━━━━━\u001b[0m \u001b[32m948.6/948.6 kB\u001b[0m \u001b[31m15.0 MB/s\u001b[0m eta \u001b[36m0:00:00\u001b[0m\n",
            "\u001b[?25h"
          ]
        }
      ]
    },
    {
      "cell_type": "code",
      "source": [
        "from google.colab import userdata"
      ],
      "metadata": {
        "id": "_VySRvTVmMN6"
      },
      "execution_count": 10,
      "outputs": []
    },
    {
      "cell_type": "code",
      "source": [
        "import os\n",
        "from typing import Optional, Dict\n",
        "\n",
        "GEMINI_API_KEY = userdata.get('GOOGLE_API_KEY')\n",
        "\n",
        "print(\"Gemini key set? \", bool(GEMINI_API_KEY))"
      ],
      "metadata": {
        "colab": {
          "base_uri": "https://localhost:8080/"
        },
        "id": "8s4DQZ8ul4kH",
        "outputId": "5702c8de-9f41-4971-eb25-cd49eb6fe59b"
      },
      "execution_count": 15,
      "outputs": [
        {
          "output_type": "stream",
          "name": "stdout",
          "text": [
            "Gemini key set?  True\n"
          ]
        }
      ]
    },
    {
      "cell_type": "markdown",
      "source": [
        "Creating a function to call the Model and provide a response"
      ],
      "metadata": {
        "id": "QRwb_QC3uIn3"
      }
    },
    {
      "cell_type": "code",
      "source": [
        "from dataclasses import dataclass\n",
        "from typing import Optional, Dict\n",
        "import os\n",
        "\n",
        "@dataclass\n",
        "class ModelProvider:\n",
        "    name: str\n",
        "    model: str\n",
        "\n",
        "# Choose your default model here:\n",
        "DEFAULT =  ModelProvider(\"gemini\", \"gemini-1.5-flash\")\n",
        "\n",
        "def call_model(prompt: str, provider: Optional[ModelProvider] = None, extra: Optional[Dict]=None) -> str:\n",
        "    provider = provider or DEFAULT\n",
        "    extra = extra or {}\n",
        "\n",
        "    if provider.name.lower() == \"gemini\":\n",
        "        if not GEMINI_API_KEY:\n",
        "            raise RuntimeError(\"Set GEMINI_API_KEY in your environment (.env or Colab secret).\")\n",
        "        try:\n",
        "            import google.generativeai as genai\n",
        "        except Exception as e:\n",
        "            raise RuntimeError(\"Install Gemini client: `pip install google-generativeai`\") from e\n",
        "\n",
        "        genai.configure(api_key=GEMINI_API_KEY)\n",
        "        model = genai.GenerativeModel(provider.model)\n",
        "        resp = model.generate_content(prompt)\n",
        "        return resp.text\n",
        "\n",
        "    else:\n",
        "        raise ValueError(f\"Unknown provider: {provider.name}\")\n",
        ""
      ],
      "metadata": {
        "id": "hNAtsL94l3zC"
      },
      "execution_count": 38,
      "outputs": []
    },
    {
      "cell_type": "markdown",
      "source": [
        "Providing Input"
      ],
      "metadata": {
        "id": "eCxsroLEts8S"
      }
    },
    {
      "cell_type": "code",
      "source": [
        "article = \"\"\"Researchers at Karolinska Institutet have developed nanorobots that kill cancer cells in mice. The robot’s weapon is hidden in a nanostructure and is exposed only in the tumour microenvironment, sparing healthy cells. The study is published in the journal Nature Nanotechnology. The research group at Karolinska Institutet has previously developed structures that can organise so-called death receptors on the surface of cells, leading to cell death. The structures exhibit six peptides (amino acid chains) assembled in a hexagonal pattern.\n",
        "“This hexagonal nanopattern of peptides becomes a lethal weapon,” explains Professor Björn Högberg at the Department of Medical Biochemistry and Biophysics, Karolinska Institutet, who led the study. “If you were to administer it as a drug, it would indiscriminately start killing cells in the body, which would not be good. To get around this problem, we have hidden the weapon inside a nanostructure built from DNA.”\n",
        "Created a ‘kill switch’\n",
        "The art of building nanoscale structures using DNA as a building material is called DNA origami and is something Björn Högberg’s research team has been working on for many years. Now they have used the technique to create a ‘kill switch’ that is activated under the right conditions.\n",
        "\n",
        "“We have managed to hide the weapon in such a way that it can only be exposed in the environment found in and around a solid tumour,” he says. “This means that we have created a type of nanorobot that can specifically target and kill cancer cells.”\n",
        "\n",
        "The key is the low pH, or acidic microenvironment that usually surrounds cancer cells, which activates the nanorobot’s weapon. In cell analyses in test tubes, the researchers were able to show that the peptide weapon is hidden inside the nanostructure at a normal pH of 7.4, but that it has a drastic cell-killing effect when the pH drops to 6.5.\n",
        "\n",
        "Reduced tumour growth\n",
        "They then tested injecting the nanorobot into mice with breast cancer tumours. This resulted in a 70 per cent reduction in tumour growth compared to mice given an inactive version of the nanorobot.\n",
        "\n",
        "“We now need to investigate whether this works in more advanced cancer models that more closely resemble the real human disease,” says the study's first author Yang Wang, a researcher at the Department of Medical Biochemistry and Biophysics, Karolinska Institutet. “We also need to find out what side effects the method has before it can be tested on humans.”\n",
        "\n",
        "The researchers also plan to investigate whether it is possible to make the nanorobot more targeted by placing proteins or peptides on its surface that specifically bind to certain types of cancer.\n",
        "\n",
        "The research was funded by the Knut and Alice Wallenberg Foundation, the European Research Council (ERC), the Swedish Research Council and the Academy of Finland. The invention will be patented\"\"\"\n",
        "\n",
        "print(article)"
      ],
      "metadata": {
        "colab": {
          "base_uri": "https://localhost:8080/"
        },
        "id": "Nh_xmowbxkaJ",
        "outputId": "f39485f0-355d-4c81-d18d-1a8c23567e05"
      },
      "execution_count": 39,
      "outputs": [
        {
          "output_type": "stream",
          "name": "stdout",
          "text": [
            "Researchers at Karolinska Institutet have developed nanorobots that kill cancer cells in mice. The robot’s weapon is hidden in a nanostructure and is exposed only in the tumour microenvironment, sparing healthy cells. The study is published in the journal Nature Nanotechnology. The research group at Karolinska Institutet has previously developed structures that can organise so-called death receptors on the surface of cells, leading to cell death. The structures exhibit six peptides (amino acid chains) assembled in a hexagonal pattern.\n",
            "“This hexagonal nanopattern of peptides becomes a lethal weapon,” explains Professor Björn Högberg at the Department of Medical Biochemistry and Biophysics, Karolinska Institutet, who led the study. “If you were to administer it as a drug, it would indiscriminately start killing cells in the body, which would not be good. To get around this problem, we have hidden the weapon inside a nanostructure built from DNA.”\n",
            "Created a ‘kill switch’\n",
            "The art of building nanoscale structures using DNA as a building material is called DNA origami and is something Björn Högberg’s research team has been working on for many years. Now they have used the technique to create a ‘kill switch’ that is activated under the right conditions.\n",
            "\n",
            "“We have managed to hide the weapon in such a way that it can only be exposed in the environment found in and around a solid tumour,” he says. “This means that we have created a type of nanorobot that can specifically target and kill cancer cells.”\n",
            "\n",
            "The key is the low pH, or acidic microenvironment that usually surrounds cancer cells, which activates the nanorobot’s weapon. In cell analyses in test tubes, the researchers were able to show that the peptide weapon is hidden inside the nanostructure at a normal pH of 7.4, but that it has a drastic cell-killing effect when the pH drops to 6.5.\n",
            "\n",
            "Reduced tumour growth\n",
            "They then tested injecting the nanorobot into mice with breast cancer tumours. This resulted in a 70 per cent reduction in tumour growth compared to mice given an inactive version of the nanorobot.\n",
            "\n",
            "“We now need to investigate whether this works in more advanced cancer models that more closely resemble the real human disease,” says the study's first author Yang Wang, a researcher at the Department of Medical Biochemistry and Biophysics, Karolinska Institutet. “We also need to find out what side effects the method has before it can be tested on humans.”\n",
            "\n",
            "The researchers also plan to investigate whether it is possible to make the nanorobot more targeted by placing proteins or peptides on its surface that specifically bind to certain types of cancer.\n",
            "\n",
            "The research was funded by the Knut and Alice Wallenberg Foundation, the European Research Council (ERC), the Swedish Research Council and the Academy of Finland. The invention will be patented\n"
          ]
        }
      ]
    },
    {
      "cell_type": "code",
      "source": [
        "# Let us start by creating a summary of some data\n",
        "\n",
        "summary_prompt = f\"\"\"You are a concise summarizer. Summarize the following article in 5-10 bullet points\n",
        "\n",
        "ARTCLE: {article}\n",
        "\"\"\"\n",
        "\n",
        "summary = call_model(summary_prompt)\n",
        "print(\"Summary:\\n\", summary)"
      ],
      "metadata": {
        "colab": {
          "base_uri": "https://localhost:8080/",
          "height": 225
        },
        "id": "J6NAIVtPtmZC",
        "outputId": "d63bf9b4-03ff-4d73-9ef1-8f1c988f8532"
      },
      "execution_count": 40,
      "outputs": [
        {
          "output_type": "stream",
          "name": "stdout",
          "text": [
            "Summary:\n",
            " * Researchers at Karolinska Institutet created DNA origami nanorobots that target and kill cancer cells.\n",
            "* The nanorobots contain a \"kill switch\" – peptides that induce cell death.\n",
            "* The peptides are inactive at normal pH (7.4) but activated in the acidic environment (pH 6.5) of tumors.\n",
            "* In mice with breast cancer, the nanorobots reduced tumor growth by 70%.\n",
            "* The nanorobots' targeting mechanism relies on the acidic tumor microenvironment.\n",
            "*  Further research will focus on testing in more advanced cancer models and assessing side effects.\n",
            "*  Future development includes enhancing targeting specificity by adding surface proteins/peptides.\n",
            "* The research was funded by several organizations and the invention will be patented.\n",
            "* The study is published in Nature Nanotechnology.\n",
            "\n",
            "\n"
          ]
        }
      ]
    },
    {
      "cell_type": "markdown",
      "source": [
        "Generating a chained prompt leveraging prompt 1"
      ],
      "metadata": {
        "id": "-FDRzmCUz6IB"
      }
    },
    {
      "cell_type": "code",
      "source": [
        "quiz_prompt = f\"\"\" Using the summary below, generate ten quiz questions with exactly four options (A, B, C, D) and mark the right answer\n",
        "\n",
        "SUMMARY:\n",
        "{summary}\n",
        "\"\"\"\n",
        "\n",
        "quiz = call_model(quiz_prompt)\n",
        "\n",
        "print(\"POP QUIZ\\n\", quiz)"
      ],
      "metadata": {
        "colab": {
          "base_uri": "https://localhost:8080/",
          "height": 1000
        },
        "id": "l8x2QevQtoJQ",
        "outputId": "6b58a55a-6040-4c84-e6f8-35c8e02d886c"
      },
      "execution_count": 46,
      "outputs": [
        {
          "output_type": "stream",
          "name": "stdout",
          "text": [
            "POP QUIZ\n",
            " Here are ten multiple-choice quiz questions based on the provided summary, each with four options (A, B, C, D) and the correct answer marked with an asterisk (*):\n",
            "\n",
            "1. What type of technology did the researchers at Karolinska Institutet develop to target cancer cells?\n",
            "    A)  Genetically modified viruses\n",
            "    B)  DNA origami nanorobots *\n",
            "    C)  Targeted chemotherapy drugs\n",
            "    D)  Immunotherapy agents\n",
            "\n",
            "2. What triggers the activation of the \"kill switch\" within the nanorobots?\n",
            "    A)  Exposure to sunlight\n",
            "    B)  Interaction with healthy cells\n",
            "    C)  The acidic environment of tumors *\n",
            "    D)  High concentrations of oxygen\n",
            "\n",
            "3.  What is the approximate pH of the tumor microenvironment that activates the nanorobots' \"kill switch\"?\n",
            "    A)  7.4\n",
            "    B)  8.0\n",
            "    C)  6.5 *\n",
            "    D)  5.0\n",
            "\n",
            "4.  In mice with breast cancer, what was the approximate percentage reduction in tumor growth observed after treatment with the nanorobots?\n",
            "    A)  30%\n",
            "    B)  50%\n",
            "    C)  70% *\n",
            "    D)  90%\n",
            "\n",
            "5. The nanorobots' targeting mechanism primarily relies on:\n",
            "    A)  Specific antibodies\n",
            "    B)  Magnetic fields\n",
            "    C)  The acidic tumor microenvironment *\n",
            "    D)  Radioactive isotopes\n",
            "\n",
            "6.  Where was the research on these DNA origami nanorobots published?\n",
            "    A)  Science\n",
            "    B)  Cell\n",
            "    C)  Nature Nanotechnology *\n",
            "    D)  The Lancet\n",
            "\n",
            "7. What component of the nanorobot is responsible for inducing cell death?\n",
            "    A)  DNA origami structure\n",
            "    B)  Peptides *\n",
            "    C)  Surface proteins\n",
            "    D)  Nanoparticles\n",
            "\n",
            "8.  What is the current status of the invention described in the summary?\n",
            "    A)  Ready for immediate clinical trials\n",
            "    B)  Currently undergoing phase III clinical trials\n",
            "    C)  Will be patented *\n",
            "    D)  Freely available for public use\n",
            "\n",
            "9.  What is a planned future improvement for the nanorobots?\n",
            "    A)  Reducing their size\n",
            "    B)  Making them biodegradable\n",
            "    C)  Enhancing targeting specificity by adding surface proteins/peptides *\n",
            "    D)  Increasing their speed of delivery\n",
            "\n",
            "\n",
            "10.  At what pH level are the peptides within the nanorobots inactive?\n",
            "    A)  6.5\n",
            "    B)  7.4 *\n",
            "    C)  5.5\n",
            "    D)  8.0\n",
            "\n",
            "\n",
            "\n"
          ]
        }
      ]
    },
    {
      "cell_type": "markdown",
      "source": [
        "Generating another chained prompt based on prompt 2"
      ],
      "metadata": {
        "id": "sFl1te7m197Y"
      }
    },
    {
      "cell_type": "code",
      "source": [
        "study_guide_prompt = f\"\"\" Using the quiz below, create a comprehensive study guide with appropriate headers and bullet points for a student attempting to take this quiz.\n",
        "\n",
        "QUIZ:\n",
        "{quiz}\n",
        "\"\"\"\n",
        "\n",
        "study_guide = call_model(study_guide_prompt)\n",
        "\n",
        "print(\"STUDY GUIDE\\n\", study_guide)"
      ],
      "metadata": {
        "colab": {
          "base_uri": "https://localhost:8080/",
          "height": 989
        },
        "id": "TNQzwugu0hyp",
        "outputId": "4f293ff0-3061-4c19-9fea-a1b7e267db9d"
      },
      "execution_count": 47,
      "outputs": [
        {
          "output_type": "stream",
          "name": "stdout",
          "text": [
            "STUDY GUIDE\n",
            " ## Study Guide: DNA Origami Nanorobots for Cancer Treatment\n",
            "\n",
            "This study guide covers the key concepts from the provided quiz on DNA origami nanorobots used in cancer treatment.  Use it to prepare for your quiz.\n",
            "\n",
            "\n",
            "**I. Nanorobot Technology:**\n",
            "\n",
            "* **Type of Technology:** The researchers utilized **DNA origami nanorobots** to target cancer cells.  This is a distinct approach from genetically modified viruses, targeted chemotherapy, or immunotherapy agents.\n",
            "\n",
            "* **Targeting Mechanism:** The nanorobots primarily rely on the **acidic tumor microenvironment** for targeting.  They don't primarily use antibodies, magnetic fields, or radioactive isotopes.\n",
            "\n",
            "* **\"Kill Switch\" Activation:** The nanorobots' \"kill switch\" is activated by the **acidic pH** (approximately 6.5) of the tumor microenvironment.  This differs from activation by sunlight, interaction with healthy cells, or high oxygen concentrations.\n",
            "\n",
            "* **Cell Death Induction:** The **peptides** within the nanorobot are responsible for inducing cell death in cancer cells.  The DNA origami structure itself, surface proteins, or nanoparticles are not directly responsible for this function.\n",
            "\n",
            "\n",
            "**II. Research and Findings:**\n",
            "\n",
            "* **Publication:** The research on these DNA origami nanorobots was published in **Nature Nanotechnology**.\n",
            "\n",
            "* **Efficacy in Mice:** In mice with breast cancer, the nanorobot treatment resulted in an approximate **70% reduction** in tumor growth.\n",
            "\n",
            "* **Current Status:**  The invention is currently **planned to be patented**. It is not ready for clinical trials, undergoing clinical trials, or freely available for public use.\n",
            "\n",
            "\n",
            "**III. Future Improvements:**\n",
            "\n",
            "* **Planned Enhancement:** A planned future improvement for the nanorobots involves **enhancing targeting specificity by adding surface proteins/peptides**. This is prioritized over reducing their size, making them biodegradable, or increasing their delivery speed.\n",
            "\n",
            "\n",
            "**IV. Specific Details:**\n",
            "\n",
            "* **pH of Tumor Microenvironment:** The approximate pH of the tumor microenvironment that activates the nanorobots is **6.5**.\n",
            "\n",
            "* **Peptide Inactivation pH:** The peptides within the nanorobots are inactive at a pH of **7.4**.  This is important as it ensures that they only become active in the acidic tumor environment.\n",
            "\n",
            "\n",
            "**V.  Quiz Question Summary:**\n",
            "\n",
            "Here's a summary of the correct answers to the quiz questions to aid your revision:\n",
            "\n",
            "1. B\n",
            "2. C\n",
            "3. C\n",
            "4. C\n",
            "5. C\n",
            "6. C\n",
            "7. B\n",
            "8. C\n",
            "9. C\n",
            "10. B\n",
            "\n",
            "\n",
            "By reviewing these key points, you should be well-prepared for the quiz on DNA origami nanorobots and their application in cancer treatment. Remember to understand the *why* behind each answer, not just memorize the correct choices.\n",
            "\n"
          ]
        }
      ]
    },
    {
      "cell_type": "markdown",
      "source": [
        "Creating a function for prompt chaining"
      ],
      "metadata": {
        "id": "ueLZcOVb2JxH"
      }
    },
    {
      "cell_type": "code",
      "source": [
        "# The function uses an optional variable called context. This can be the training data for a prmpt (such as the artcile for the summary prompt), or it can be the result of another prompt\n",
        "def prompt_chain(text, context : Optional[str]):\n",
        "  if context:\n",
        "        formatted_text = f\"\"\" {text}\n",
        "    CONTEXT: {context}\n",
        "    \"\"\"\n",
        "  else:\n",
        "        formatted_text = text\n",
        "\n",
        "  result = call_model(formatted_text)\n",
        "  print(\"RESULT\\n\", result)"
      ],
      "metadata": {
        "id": "dP6uzrcJ2Hao"
      },
      "execution_count": 55,
      "outputs": []
    },
    {
      "cell_type": "code",
      "source": [
        "# Calling the function on the summary prompt\n",
        "prompt_chain(summary_prompt, article)"
      ],
      "metadata": {
        "colab": {
          "base_uri": "https://localhost:8080/",
          "height": 208
        },
        "id": "JzSZsqOB3WF_",
        "outputId": "d6a684ae-221f-478c-de3e-f69fa1fd5b65"
      },
      "execution_count": 56,
      "outputs": [
        {
          "output_type": "stream",
          "name": "stdout",
          "text": [
            "RESULT\n",
            " * Karolinska Institutet researchers developed DNA origami-based nanorobots that target and kill cancer cells in mice.\n",
            "* The nanorobots contain a \"lethal weapon\" – a hexagonal pattern of peptides – hidden within a DNA nanostructure.\n",
            "* This weapon is activated only in the acidic environment (low pH) surrounding tumors, sparing healthy cells.\n",
            "*  In lab tests, the nanorobots showed a drastic cell-killing effect at pH 6.5, but were inactive at normal pH 7.4.\n",
            "*  Mouse studies showed a 70% reduction in breast cancer tumor growth.\n",
            "*  Further research is needed to test the nanorobots in more advanced cancer models and assess potential side effects before human trials.\n",
            "*  Future plans include improving the nanorobot's targeting specificity by adding proteins or peptides.\n",
            "* The research was funded by several organizations, and the invention will be patented.\n",
            "\n",
            "\n"
          ]
        }
      ]
    },
    {
      "cell_type": "code",
      "source": [
        "# Calling the function using an exisiting prompt's result as context\n",
        "prompt_chain(quiz_prompt, summary)"
      ],
      "metadata": {
        "colab": {
          "base_uri": "https://localhost:8080/",
          "height": 607
        },
        "id": "HIlhcTR94Acu",
        "outputId": "80c4a3f7-c3c1-4296-edab-ee2b19461817"
      },
      "execution_count": 58,
      "outputs": [
        {
          "output_type": "stream",
          "name": "stdout",
          "text": [
            "RESULT\n",
            " Here are ten quiz questions based on the provided summary, each with four options (A, B, C, D) and the correct answer marked with an asterisk (*):\n",
            "\n",
            "1.  Where were the DNA origami nanorobots developed?\n",
            "    A) MIT  B) Stanford University  C) Oxford University  *D) Karolinska Institutet*\n",
            "\n",
            "2.  What is the primary function of the peptides within the nanorobots?\n",
            "    A) To enhance DNA replication  B) To improve targeting accuracy  *C) To induce cell death*  D) To neutralize tumor acidity\n",
            "\n",
            "3.  At what pH level are the peptides within the nanorobots activated?\n",
            "    A) 7.4  *B) 6.5*  C) 8.0  D) 5.0\n",
            "\n",
            "4.  In the mouse model study, what percentage reduction in tumor growth was observed?\n",
            "    A) 30%  B) 50%  *C) 70%*  D) 90%\n",
            "\n",
            "5.  What is the main targeting mechanism of the nanorobots?\n",
            "    A) Specific antibodies  B) Magnetic fields  *C) Acidic tumor microenvironment*  D) Radio waves\n",
            "\n",
            "6.  What is the next stage of research, as mentioned in the summary?\n",
            "    A) Human clinical trials  B) Testing in fruit flies  *C) Testing in more advanced cancer models and assessing side effects* D) Mass production\n",
            "\n",
            "7.  How will the targeting specificity of the nanorobots be potentially improved in the future?\n",
            "    A) Using smaller peptides  B) Reducing the acidity of the tumor  *C) Adding surface proteins/peptides*  D) Increasing the dosage\n",
            "\n",
            "\n",
            "8.  Where was the research published?\n",
            "    A) Science  B) Cell  *C) Nature Nanotechnology*  D) The Lancet\n",
            "\n",
            "9.  What is a key characteristic of the peptides in the nanorobots?\n",
            "    A) They are always active.  B) They are activated by light.  *C) They are pH-dependent.* D) They are heat-activated.\n",
            "\n",
            "10. What is the status of the invention?\n",
            "    A) It remains under development.  *B) It will be patented.*  C) It is freely available.  D) It has been abandoned.\n",
            "\n"
          ]
        }
      ]
    }
  ]
}