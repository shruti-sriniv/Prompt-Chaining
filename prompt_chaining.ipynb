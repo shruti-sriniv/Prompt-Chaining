{
  "nbformat": 4,
  "nbformat_minor": 0,
  "metadata": {
    "colab": {
      "provenance": [],
      "authorship_tag": "ABX9TyME6774Z0jBUReX5gnaG87h",
      "include_colab_link": true
    },
    "kernelspec": {
      "name": "python3",
      "display_name": "Python 3"
    },
    "language_info": {
      "name": "python"
    }
  },
  "cells": [
    {
      "cell_type": "markdown",
      "metadata": {
        "id": "view-in-github",
        "colab_type": "text"
      },
      "source": [
        "<a href=\"https://colab.research.google.com/github/shruti-sriniv/Prompt-Chaining/blob/main/prompt_chaining.ipynb\" target=\"_parent\"><img src=\"https://colab.research.google.com/assets/colab-badge.svg\" alt=\"Open In Colab\"/></a>"
      ]
    },
    {
      "cell_type": "markdown",
      "source": [
        "Setup"
      ],
      "metadata": {
        "id": "FknA8j2plxsC"
      }
    },
    {
      "cell_type": "code",
      "source": [
        "!pip -q install --upgrade openai google-generativeai"
      ],
      "metadata": {
        "colab": {
          "base_uri": "https://localhost:8080/"
        },
        "id": "j-DoiDgLlwZE",
        "outputId": "e4ced056-96ab-451d-ea04-1d76b1f7c0a8"
      },
      "execution_count": 1,
      "outputs": [
        {
          "output_type": "stream",
          "name": "stdout",
          "text": [
            "\u001b[?25l   \u001b[90m━━━━━━━━━━━━━━━━━━━━━━━━━━━━━━━━━━━━━━━━\u001b[0m \u001b[32m0.0/948.6 kB\u001b[0m \u001b[31m?\u001b[0m eta \u001b[36m-:--:--\u001b[0m\r\u001b[2K   \u001b[91m━━━━━━━━━━━━━━━━━━━\u001b[0m\u001b[90m╺\u001b[0m\u001b[90m━━━━━━━━━━━━━━━━━━━━\u001b[0m \u001b[32m460.8/948.6 kB\u001b[0m \u001b[31m13.6 MB/s\u001b[0m eta \u001b[36m0:00:01\u001b[0m\r\u001b[2K   \u001b[90m━━━━━━━━━━━━━━━━━━━━━━━━━━━━━━━━━━━━━━━━\u001b[0m \u001b[32m948.6/948.6 kB\u001b[0m \u001b[31m15.0 MB/s\u001b[0m eta \u001b[36m0:00:00\u001b[0m\n",
            "\u001b[?25h"
          ]
        }
      ]
    },
    {
      "cell_type": "code",
      "source": [
        "from google.colab import userdata"
      ],
      "metadata": {
        "id": "_VySRvTVmMN6"
      },
      "execution_count": 10,
      "outputs": []
    },
    {
      "cell_type": "code",
      "source": [
        "import os\n",
        "from typing import Optional, Dict\n",
        "\n",
        "GEMINI_API_KEY = userdata.get('GOOGLE_API_KEY')\n",
        "\n",
        "print(\"Gemini key set? \", bool(GEMINI_API_KEY))"
      ],
      "metadata": {
        "colab": {
          "base_uri": "https://localhost:8080/"
        },
        "id": "8s4DQZ8ul4kH",
        "outputId": "5702c8de-9f41-4971-eb25-cd49eb6fe59b"
      },
      "execution_count": 15,
      "outputs": [
        {
          "output_type": "stream",
          "name": "stdout",
          "text": [
            "Gemini key set?  True\n"
          ]
        }
      ]
    },
    {
      "cell_type": "markdown",
      "source": [
        "Creating a function to call the Model and provide a response"
      ],
      "metadata": {
        "id": "QRwb_QC3uIn3"
      }
    },
    {
      "cell_type": "code",
      "source": [
        "from dataclasses import dataclass\n",
        "\n",
        "@dataclass\n",
        "class ModelProvider:\n",
        "  name: str\n",
        "  model: str\n",
        "\n",
        "# Choosing a default model\n",
        "DEFAULT = ModelProvider(\"gemini\", \"gemini-1.5-flash\")\n",
        "\n",
        "# Defining a function to call the LLM\n",
        "def call_model(prompt: str, provider : Optional[ModelProvider] = None, extra: Optional[Dict]=None) -> str:\n",
        "  provider = provider or DEFAULT\n",
        "  extra = extra or {}\n",
        "\n",
        "  if provider.name.lower() == \"gemini\":\n",
        "    if not GEMINI_API_KEY:\n",
        "      raise RuntimeError(\"Install Gemini client: 'pip install google-generativeai'\") from e\n",
        "\n",
        "      genai.configure(GEMINI_API_KEY)\n",
        "      model = genai.GenerativeModel(provider.model)\n",
        "      response = model.generate_content(prompt)\n",
        "      return response.text\n",
        "  else:\n",
        "    raise ValueError(f\"Unknown provider: {provider.name}\")\n",
        ""
      ],
      "metadata": {
        "id": "hNAtsL94l3zC"
      },
      "execution_count": 16,
      "outputs": []
    },
    {
      "cell_type": "markdown",
      "source": [
        "Providing Input"
      ],
      "metadata": {
        "id": "eCxsroLEts8S"
      }
    },
    {
      "cell_type": "code",
      "source": [],
      "metadata": {
        "id": "J6NAIVtPtmZC"
      },
      "execution_count": null,
      "outputs": []
    },
    {
      "cell_type": "code",
      "source": [],
      "metadata": {
        "id": "l8x2QevQtoJQ"
      },
      "execution_count": null,
      "outputs": []
    }
  ]
}